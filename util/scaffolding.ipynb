{
 "cells": [
  {
   "cell_type": "code",
   "execution_count": 13,
   "metadata": {},
   "outputs": [],
   "source": [
    "import os\n",
    "import shutil\n",
    "\n",
    "LOCAL_TEMP = os.path.normpath(\"./tmp\")\n",
    "JS_BASE_PATH = os.path.normpath(\"../frontend/warehouse/\")\n",
    "JS_SOURCE_PATH = os.path.join(JS_BASE_PATH, \"src\")\n",
    "\n",
    "JS_INDEX_FILE = os.path.join(JS_SOURCE_PATH, \"index.js\")\n",
    "\n",
    "\n",
    "# Скопировать оригинальные файлы в текущее местоположение /temp\n",
    "source_files = [\n",
    "    JS_INDEX_FILE,\n",
    "    \n",
    "]\n",
    "\n",
    "def backupSources():\n",
    "    for f in source_files:\n",
    "        shutil.copy(f, LOCAL_TEMP)\n",
    "    \n",
    "def removeLineContainsString(string, filename=JS_INDEX_FILE):\n",
    "    lines = []\n",
    "    print(filename)\n",
    "    with open(filename, 'r') as read_fh:\n",
    "        for line in read_fh:\n",
    "            if line.find(string) < 0:\n",
    "                lines.append(line)\n",
    "            else:\n",
    "                lines.append(\"\\n\")\n",
    "                print(line + \" from file \" + filename + \" will be removed\")\n",
    "\n",
    "    with open(filename, 'w') as write_fh:\n",
    "        write_fh.writelines(lines)\n",
    "        \n"
   ]
  },
  {
   "cell_type": "code",
   "execution_count": 14,
   "metadata": {},
   "outputs": [],
   "source": [
    "backupSources()"
   ]
  },
  {
   "cell_type": "code",
   "execution_count": null,
   "metadata": {},
   "outputs": [],
   "source": []
  }
 ],
 "metadata": {
  "kernelspec": {
   "display_name": "Python 3",
   "language": "python",
   "name": "python3"
  },
  "language_info": {
   "codemirror_mode": {
    "name": "ipython",
    "version": 3
   },
   "file_extension": ".py",
   "mimetype": "text/x-python",
   "name": "python",
   "nbconvert_exporter": "python",
   "pygments_lexer": "ipython3",
   "version": "3.6.3"
  }
 },
 "nbformat": 4,
 "nbformat_minor": 2
}
